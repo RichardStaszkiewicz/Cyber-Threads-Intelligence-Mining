{
  "nbformat": 4,
  "nbformat_minor": 0,
  "metadata": {
    "colab": {
      "provenance": []
    },
    "kernelspec": {
      "name": "python3",
      "display_name": "Python 3"
    },
    "language_info": {
      "name": "python"
    }
  },
  "cells": [
    {
      "cell_type": "code",
      "execution_count": null,
      "metadata": {
        "colab": {
          "base_uri": "https://localhost:8080/"
        },
        "id": "GnRzEMNdwNfY",
        "outputId": "ee009b98-418b-4bbe-884a-7a6dc5714a60"
      },
      "outputs": [
        {
          "output_type": "stream",
          "name": "stdout",
          "text": [
            "Cloning into 'Automotive-cyber-threat-intelligence-corpus'...\n",
            "remote: Enumerating objects: 3083, done.\u001b[K\n",
            "remote: Counting objects: 100% (553/553), done.\u001b[K\n",
            "remote: Compressing objects: 100% (543/543), done.\u001b[K\n",
            "remote: Total 3083 (delta 145), reused 61 (delta 8), pack-reused 2530 (from 1)\u001b[K\n",
            "Receiving objects: 100% (3083/3083), 1.34 MiB | 4.28 MiB/s, done.\n",
            "Resolving deltas: 100% (467/467), done.\n"
          ]
        }
      ],
      "source": [
        "!git clone https://github.com/AutoCS-wyh/Automotive-cyber-threat-intelligence-corpus.git"
      ]
    },
    {
      "cell_type": "code",
      "source": [
        "%cd /content/Automotive-cyber-threat-intelligence-corpus"
      ],
      "metadata": {
        "colab": {
          "base_uri": "https://localhost:8080/"
        },
        "id": "KBy4we7-xKto",
        "outputId": "764a598b-5bce-46f1-b15e-aa94d710f33f"
      },
      "execution_count": null,
      "outputs": [
        {
          "output_type": "stream",
          "name": "stdout",
          "text": [
            "/content/Automotive-cyber-threat-intelligence-corpus\n"
          ]
        }
      ]
    },
    {
      "cell_type": "code",
      "source": [
        "!python3 \"./BIOES joint annotation.py\""
      ],
      "metadata": {
        "id": "eetl7Aifw0Ui"
      },
      "execution_count": null,
      "outputs": []
    },
    {
      "cell_type": "code",
      "source": [
        "%cd \"/content/Automotive-cyber-threat-intelligence-corpus/model/BiLSTM-dynamic-att-LSTM\""
      ],
      "metadata": {
        "colab": {
          "base_uri": "https://localhost:8080/"
        },
        "id": "xY-zw4Mk07fv",
        "outputId": "ee5a9a51-288a-4f04-acaf-1d7fae77f6f6"
      },
      "execution_count": null,
      "outputs": [
        {
          "output_type": "stream",
          "name": "stdout",
          "text": [
            "/content/Automotive-cyber-threat-intelligence-corpus/model/BiLSTM-dynamic-att-LSTM\n"
          ]
        }
      ]
    },
    {
      "cell_type": "code",
      "source": [
        "!python3 script/preprocess.py"
      ],
      "metadata": {
        "colab": {
          "base_uri": "https://localhost:8080/"
        },
        "id": "ZhFbSRkk1MQP",
        "outputId": "d7abd1ec-4c79-432c-d344-366f77d5c68a"
      },
      "execution_count": null,
      "outputs": [
        {
          "output_type": "stream",
          "name": "stdout",
          "text": [
            "data1/BIOES.txt文件格式转换完毕，训练数据集保存为data1/train.txt\n",
            "data1/BIOES.txt文件格式转换完毕，验证数据集保存为data1/dev.txt\n"
          ]
        }
      ]
    },
    {
      "cell_type": "code",
      "source": [
        "!pip install paddlenlp\n",
        "!pip install paddlepaddle-gpu\n",
        "!pip install paddlepaddle"
      ],
      "metadata": {
        "colab": {
          "base_uri": "https://localhost:8080/"
        },
        "id": "L3l4wocf1ibY",
        "outputId": "7a7c8362-9364-4feb-a6be-59df0d7b3a1b"
      },
      "execution_count": null,
      "outputs": [
        {
          "output_type": "stream",
          "name": "stdout",
          "text": [
            "Collecting paddlenlp\n",
            "  Downloading paddlenlp-2.8.1-py3-none-any.whl.metadata (25 kB)\n",
            "Requirement already satisfied: jieba in /usr/local/lib/python3.11/dist-packages (from paddlenlp) (0.42.1)\n",
            "Collecting colorlog (from paddlenlp)\n",
            "  Downloading colorlog-6.9.0-py3-none-any.whl.metadata (10 kB)\n",
            "Collecting colorama (from paddlenlp)\n",
            "  Downloading colorama-0.4.6-py2.py3-none-any.whl.metadata (17 kB)\n",
            "Collecting seqeval (from paddlenlp)\n",
            "  Downloading seqeval-1.2.2.tar.gz (43 kB)\n",
            "\u001b[2K     \u001b[90m━━━━━━━━━━━━━━━━━━━━━━━━━━━━━━━━━━━━━━━━\u001b[0m \u001b[32m43.6/43.6 kB\u001b[0m \u001b[31m2.7 MB/s\u001b[0m eta \u001b[36m0:00:00\u001b[0m\n",
            "\u001b[?25h  Preparing metadata (setup.py) ... \u001b[?25l\u001b[?25hdone\n",
            "Collecting dill<0.3.5 (from paddlenlp)\n",
            "  Downloading dill-0.3.4-py2.py3-none-any.whl.metadata (9.6 kB)\n",
            "Collecting multiprocess<=0.70.12.2 (from paddlenlp)\n",
            "  Downloading multiprocess-0.70.12.2-py39-none-any.whl.metadata (6.9 kB)\n",
            "Collecting datasets>=2.0.0 (from paddlenlp)\n",
            "  Downloading datasets-3.5.0-py3-none-any.whl.metadata (19 kB)\n",
            "Requirement already satisfied: tqdm in /usr/local/lib/python3.11/dist-packages (from paddlenlp) (4.67.1)\n",
            "Collecting paddlefsl (from paddlenlp)\n",
            "  Downloading paddlefsl-1.1.0-py3-none-any.whl.metadata (3.6 kB)\n",
            "Requirement already satisfied: sentencepiece in /usr/local/lib/python3.11/dist-packages (from paddlenlp) (0.2.0)\n",
            "Requirement already satisfied: huggingface-hub>=0.19.2 in /usr/local/lib/python3.11/dist-packages (from paddlenlp) (0.29.3)\n",
            "Collecting onnx>=1.10.0 (from paddlenlp)\n",
            "  Downloading onnx-1.17.0-cp311-cp311-manylinux_2_17_x86_64.manylinux2014_x86_64.whl.metadata (16 kB)\n",
            "Collecting paddle2onnx (from paddlenlp)\n",
            "  Downloading paddle2onnx-1.3.1-cp311-cp311-manylinux_2_17_x86_64.manylinux2014_x86_64.whl.metadata (5.8 kB)\n",
            "Collecting Flask-Babel (from paddlenlp)\n",
            "  Downloading flask_babel-4.0.0-py3-none-any.whl.metadata (1.9 kB)\n",
            "Collecting visualdl (from paddlenlp)\n",
            "  Downloading visualdl-2.5.3-py3-none-any.whl.metadata (25 kB)\n",
            "Collecting fastapi (from paddlenlp)\n",
            "  Downloading fastapi-0.115.12-py3-none-any.whl.metadata (27 kB)\n",
            "Collecting uvicorn (from paddlenlp)\n",
            "  Downloading uvicorn-0.34.0-py3-none-any.whl.metadata (6.5 kB)\n",
            "Requirement already satisfied: typer in /usr/local/lib/python3.11/dist-packages (from paddlenlp) (0.15.2)\n",
            "Requirement already satisfied: rich in /usr/local/lib/python3.11/dist-packages (from paddlenlp) (13.9.4)\n",
            "Requirement already satisfied: safetensors in /usr/local/lib/python3.11/dist-packages (from paddlenlp) (0.5.3)\n",
            "Collecting tool-helpers (from paddlenlp)\n",
            "  Downloading tool_helpers-0.1.2-cp311-cp311-manylinux_2_17_x86_64.manylinux2014_x86_64.whl.metadata (1.4 kB)\n",
            "Collecting aistudio-sdk>=0.1.3 (from paddlenlp)\n",
            "  Downloading aistudio_sdk-0.2.6-py3-none-any.whl.metadata (1.0 kB)\n",
            "Requirement already satisfied: jinja2 in /usr/local/lib/python3.11/dist-packages (from paddlenlp) (3.1.6)\n",
            "Requirement already satisfied: regex in /usr/local/lib/python3.11/dist-packages (from paddlenlp) (2024.11.6)\n",
            "Requirement already satisfied: protobuf>=3.20.2 in /usr/local/lib/python3.11/dist-packages (from paddlenlp) (5.29.4)\n",
            "Requirement already satisfied: requests in /usr/local/lib/python3.11/dist-packages (from aistudio-sdk>=0.1.3->paddlenlp) (2.32.3)\n",
            "Collecting bce-python-sdk (from aistudio-sdk>=0.1.3->paddlenlp)\n",
            "  Downloading bce_python_sdk-0.9.29-py3-none-any.whl.metadata (416 bytes)\n",
            "Requirement already satisfied: prettytable in /usr/local/lib/python3.11/dist-packages (from aistudio-sdk>=0.1.3->paddlenlp) (3.15.1)\n",
            "Requirement already satisfied: click in /usr/local/lib/python3.11/dist-packages (from aistudio-sdk>=0.1.3->paddlenlp) (8.1.8)\n",
            "Requirement already satisfied: filelock in /usr/local/lib/python3.11/dist-packages (from datasets>=2.0.0->paddlenlp) (3.18.0)\n",
            "Requirement already satisfied: numpy>=1.17 in /usr/local/lib/python3.11/dist-packages (from datasets>=2.0.0->paddlenlp) (2.0.2)\n",
            "Requirement already satisfied: pyarrow>=15.0.0 in /usr/local/lib/python3.11/dist-packages (from datasets>=2.0.0->paddlenlp) (18.1.0)\n",
            "Requirement already satisfied: pandas in /usr/local/lib/python3.11/dist-packages (from datasets>=2.0.0->paddlenlp) (2.2.2)\n",
            "Collecting xxhash (from datasets>=2.0.0->paddlenlp)\n",
            "  Downloading xxhash-3.5.0-cp311-cp311-manylinux_2_17_x86_64.manylinux2014_x86_64.whl.metadata (12 kB)\n",
            "Collecting fsspec<=2024.12.0,>=2023.1.0 (from fsspec[http]<=2024.12.0,>=2023.1.0->datasets>=2.0.0->paddlenlp)\n",
            "  Downloading fsspec-2024.12.0-py3-none-any.whl.metadata (11 kB)\n",
            "Requirement already satisfied: aiohttp in /usr/local/lib/python3.11/dist-packages (from datasets>=2.0.0->paddlenlp) (3.11.14)\n",
            "Requirement already satisfied: packaging in /usr/local/lib/python3.11/dist-packages (from datasets>=2.0.0->paddlenlp) (24.2)\n",
            "Requirement already satisfied: pyyaml>=5.1 in /usr/local/lib/python3.11/dist-packages (from datasets>=2.0.0->paddlenlp) (6.0.2)\n",
            "Requirement already satisfied: typing-extensions>=3.7.4.3 in /usr/local/lib/python3.11/dist-packages (from huggingface-hub>=0.19.2->paddlenlp) (4.12.2)\n",
            "Collecting starlette<0.47.0,>=0.40.0 (from fastapi->paddlenlp)\n",
            "  Downloading starlette-0.46.1-py3-none-any.whl.metadata (6.2 kB)\n",
            "Requirement already satisfied: pydantic!=1.8,!=1.8.1,!=2.0.0,!=2.0.1,!=2.1.0,<3.0.0,>=1.7.4 in /usr/local/lib/python3.11/dist-packages (from fastapi->paddlenlp) (2.10.6)\n",
            "Requirement already satisfied: Babel>=2.12 in /usr/local/lib/python3.11/dist-packages (from Flask-Babel->paddlenlp) (2.17.0)\n",
            "Requirement already satisfied: Flask>=2.0 in /usr/local/lib/python3.11/dist-packages (from Flask-Babel->paddlenlp) (3.1.0)\n",
            "Requirement already satisfied: pytz>=2022.7 in /usr/local/lib/python3.11/dist-packages (from Flask-Babel->paddlenlp) (2025.1)\n",
            "Requirement already satisfied: MarkupSafe>=2.0 in /usr/local/lib/python3.11/dist-packages (from jinja2->paddlenlp) (3.0.2)\n",
            "Requirement already satisfied: markdown-it-py>=2.2.0 in /usr/local/lib/python3.11/dist-packages (from rich->paddlenlp) (3.0.0)\n",
            "Requirement already satisfied: pygments<3.0.0,>=2.13.0 in /usr/local/lib/python3.11/dist-packages (from rich->paddlenlp) (2.18.0)\n",
            "Requirement already satisfied: scikit-learn>=0.21.3 in /usr/local/lib/python3.11/dist-packages (from seqeval->paddlenlp) (1.6.1)\n",
            "Collecting numpy>=1.17 (from datasets>=2.0.0->paddlenlp)\n",
            "  Downloading numpy-1.26.4-cp311-cp311-manylinux_2_17_x86_64.manylinux2014_x86_64.whl.metadata (61 kB)\n",
            "\u001b[2K     \u001b[90m━━━━━━━━━━━━━━━━━━━━━━━━━━━━━━━━━━━━━━━━\u001b[0m \u001b[32m61.0/61.0 kB\u001b[0m \u001b[31m2.0 MB/s\u001b[0m eta \u001b[36m0:00:00\u001b[0m\n",
            "\u001b[?25hCollecting pybind11 (from tool-helpers->paddlenlp)\n",
            "  Downloading pybind11-2.13.6-py3-none-any.whl.metadata (9.5 kB)\n",
            "Requirement already satisfied: shellingham>=1.3.0 in /usr/local/lib/python3.11/dist-packages (from typer->paddlenlp) (1.5.4)\n",
            "Requirement already satisfied: h11>=0.8 in /usr/local/lib/python3.11/dist-packages (from uvicorn->paddlenlp) (0.14.0)\n",
            "Requirement already satisfied: Pillow>=7.0.0 in /usr/local/lib/python3.11/dist-packages (from visualdl->paddlenlp) (11.1.0)\n",
            "Requirement already satisfied: six>=1.14.0 in /usr/local/lib/python3.11/dist-packages (from visualdl->paddlenlp) (1.17.0)\n",
            "Requirement already satisfied: matplotlib in /usr/local/lib/python3.11/dist-packages (from visualdl->paddlenlp) (3.10.0)\n",
            "Collecting rarfile (from visualdl->paddlenlp)\n",
            "  Downloading rarfile-4.2-py3-none-any.whl.metadata (4.4 kB)\n",
            "Requirement already satisfied: psutil in /usr/local/lib/python3.11/dist-packages (from visualdl->paddlenlp) (5.9.5)\n",
            "Requirement already satisfied: Werkzeug>=3.1 in /usr/local/lib/python3.11/dist-packages (from Flask>=2.0->Flask-Babel->paddlenlp) (3.1.3)\n",
            "Requirement already satisfied: itsdangerous>=2.2 in /usr/local/lib/python3.11/dist-packages (from Flask>=2.0->Flask-Babel->paddlenlp) (2.2.0)\n",
            "Requirement already satisfied: blinker>=1.9 in /usr/local/lib/python3.11/dist-packages (from Flask>=2.0->Flask-Babel->paddlenlp) (1.9.0)\n",
            "Requirement already satisfied: aiohappyeyeballs>=2.3.0 in /usr/local/lib/python3.11/dist-packages (from aiohttp->datasets>=2.0.0->paddlenlp) (2.6.1)\n",
            "Requirement already satisfied: aiosignal>=1.1.2 in /usr/local/lib/python3.11/dist-packages (from aiohttp->datasets>=2.0.0->paddlenlp) (1.3.2)\n",
            "Requirement already satisfied: attrs>=17.3.0 in /usr/local/lib/python3.11/dist-packages (from aiohttp->datasets>=2.0.0->paddlenlp) (25.3.0)\n",
            "Requirement already satisfied: frozenlist>=1.1.1 in /usr/local/lib/python3.11/dist-packages (from aiohttp->datasets>=2.0.0->paddlenlp) (1.5.0)\n",
            "Requirement already satisfied: multidict<7.0,>=4.5 in /usr/local/lib/python3.11/dist-packages (from aiohttp->datasets>=2.0.0->paddlenlp) (6.2.0)\n",
            "Requirement already satisfied: propcache>=0.2.0 in /usr/local/lib/python3.11/dist-packages (from aiohttp->datasets>=2.0.0->paddlenlp) (0.3.0)\n",
            "Requirement already satisfied: yarl<2.0,>=1.17.0 in /usr/local/lib/python3.11/dist-packages (from aiohttp->datasets>=2.0.0->paddlenlp) (1.18.3)\n",
            "Requirement already satisfied: mdurl~=0.1 in /usr/local/lib/python3.11/dist-packages (from markdown-it-py>=2.2.0->rich->paddlenlp) (0.1.2)\n",
            "Requirement already satisfied: annotated-types>=0.6.0 in /usr/local/lib/python3.11/dist-packages (from pydantic!=1.8,!=1.8.1,!=2.0.0,!=2.0.1,!=2.1.0,<3.0.0,>=1.7.4->fastapi->paddlenlp) (0.7.0)\n",
            "Requirement already satisfied: pydantic-core==2.27.2 in /usr/local/lib/python3.11/dist-packages (from pydantic!=1.8,!=1.8.1,!=2.0.0,!=2.0.1,!=2.1.0,<3.0.0,>=1.7.4->fastapi->paddlenlp) (2.27.2)\n",
            "Requirement already satisfied: charset-normalizer<4,>=2 in /usr/local/lib/python3.11/dist-packages (from requests->aistudio-sdk>=0.1.3->paddlenlp) (3.4.1)\n",
            "Requirement already satisfied: idna<4,>=2.5 in /usr/local/lib/python3.11/dist-packages (from requests->aistudio-sdk>=0.1.3->paddlenlp) (3.10)\n",
            "Requirement already satisfied: urllib3<3,>=1.21.1 in /usr/local/lib/python3.11/dist-packages (from requests->aistudio-sdk>=0.1.3->paddlenlp) (2.3.0)\n",
            "Requirement already satisfied: certifi>=2017.4.17 in /usr/local/lib/python3.11/dist-packages (from requests->aistudio-sdk>=0.1.3->paddlenlp) (2025.1.31)\n",
            "Requirement already satisfied: scipy>=1.6.0 in /usr/local/lib/python3.11/dist-packages (from scikit-learn>=0.21.3->seqeval->paddlenlp) (1.14.1)\n",
            "Requirement already satisfied: joblib>=1.2.0 in /usr/local/lib/python3.11/dist-packages (from scikit-learn>=0.21.3->seqeval->paddlenlp) (1.4.2)\n",
            "Requirement already satisfied: threadpoolctl>=3.1.0 in /usr/local/lib/python3.11/dist-packages (from scikit-learn>=0.21.3->seqeval->paddlenlp) (3.6.0)\n",
            "Requirement already satisfied: anyio<5,>=3.6.2 in /usr/local/lib/python3.11/dist-packages (from starlette<0.47.0,>=0.40.0->fastapi->paddlenlp) (4.9.0)\n",
            "Collecting pycryptodome>=3.8.0 (from bce-python-sdk->aistudio-sdk>=0.1.3->paddlenlp)\n",
            "  Downloading pycryptodome-3.22.0-cp37-abi3-manylinux_2_17_x86_64.manylinux2014_x86_64.whl.metadata (3.4 kB)\n",
            "Requirement already satisfied: future>=0.6.0 in /usr/local/lib/python3.11/dist-packages (from bce-python-sdk->aistudio-sdk>=0.1.3->paddlenlp) (1.0.0)\n",
            "Requirement already satisfied: contourpy>=1.0.1 in /usr/local/lib/python3.11/dist-packages (from matplotlib->visualdl->paddlenlp) (1.3.1)\n",
            "Requirement already satisfied: cycler>=0.10 in /usr/local/lib/python3.11/dist-packages (from matplotlib->visualdl->paddlenlp) (0.12.1)\n",
            "Requirement already satisfied: fonttools>=4.22.0 in /usr/local/lib/python3.11/dist-packages (from matplotlib->visualdl->paddlenlp) (4.56.0)\n",
            "Requirement already satisfied: kiwisolver>=1.3.1 in /usr/local/lib/python3.11/dist-packages (from matplotlib->visualdl->paddlenlp) (1.4.8)\n",
            "Requirement already satisfied: pyparsing>=2.3.1 in /usr/local/lib/python3.11/dist-packages (from matplotlib->visualdl->paddlenlp) (3.2.1)\n",
            "Requirement already satisfied: python-dateutil>=2.7 in /usr/local/lib/python3.11/dist-packages (from matplotlib->visualdl->paddlenlp) (2.8.2)\n",
            "Requirement already satisfied: tzdata>=2022.7 in /usr/local/lib/python3.11/dist-packages (from pandas->datasets>=2.0.0->paddlenlp) (2025.1)\n",
            "Requirement already satisfied: wcwidth in /usr/local/lib/python3.11/dist-packages (from prettytable->aistudio-sdk>=0.1.3->paddlenlp) (0.2.13)\n",
            "Requirement already satisfied: sniffio>=1.1 in /usr/local/lib/python3.11/dist-packages (from anyio<5,>=3.6.2->starlette<0.47.0,>=0.40.0->fastapi->paddlenlp) (1.3.1)\n",
            "Downloading paddlenlp-2.8.1-py3-none-any.whl (2.9 MB)\n",
            "\u001b[2K   \u001b[90m━━━━━━━━━━━━━━━━━━━━━━━━━━━━━━━━━━━━━━━━\u001b[0m \u001b[32m2.9/2.9 MB\u001b[0m \u001b[31m34.3 MB/s\u001b[0m eta \u001b[36m0:00:00\u001b[0m\n",
            "\u001b[?25hDownloading aistudio_sdk-0.2.6-py3-none-any.whl (34 kB)\n",
            "Downloading datasets-3.5.0-py3-none-any.whl (491 kB)\n",
            "\u001b[2K   \u001b[90m━━━━━━━━━━━━━━━━━━━━━━━━━━━━━━━━━━━━━━━━\u001b[0m \u001b[32m491.2/491.2 kB\u001b[0m \u001b[31m22.1 MB/s\u001b[0m eta \u001b[36m0:00:00\u001b[0m\n",
            "\u001b[?25hDownloading dill-0.3.4-py2.py3-none-any.whl (86 kB)\n",
            "\u001b[2K   \u001b[90m━━━━━━━━━━━━━━━━━━━━━━━━━━━━━━━━━━━━━━━━\u001b[0m \u001b[32m86.9/86.9 kB\u001b[0m \u001b[31m5.0 MB/s\u001b[0m eta \u001b[36m0:00:00\u001b[0m\n",
            "\u001b[?25hDownloading multiprocess-0.70.12.2-py39-none-any.whl (128 kB)\n",
            "\u001b[2K   \u001b[90m━━━━━━━━━━━━━━━━━━━━━━━━━━━━━━━━━━━━━━━━\u001b[0m \u001b[32m128.7/128.7 kB\u001b[0m \u001b[31m7.9 MB/s\u001b[0m eta \u001b[36m0:00:00\u001b[0m\n",
            "\u001b[?25hDownloading onnx-1.17.0-cp311-cp311-manylinux_2_17_x86_64.manylinux2014_x86_64.whl (16.0 MB)\n",
            "\u001b[2K   \u001b[90m━━━━━━━━━━━━━━━━━━━━━━━━━━━━━━━━━━━━━━━━\u001b[0m \u001b[32m16.0/16.0 MB\u001b[0m \u001b[31m67.8 MB/s\u001b[0m eta \u001b[36m0:00:00\u001b[0m\n",
            "\u001b[?25hDownloading colorama-0.4.6-py2.py3-none-any.whl (25 kB)\n",
            "Downloading colorlog-6.9.0-py3-none-any.whl (11 kB)\n",
            "Downloading fastapi-0.115.12-py3-none-any.whl (95 kB)\n",
            "\u001b[2K   \u001b[90m━━━━━━━━━━━━━━━━━━━━━━━━━━━━━━━━━━━━━━━━\u001b[0m \u001b[32m95.2/95.2 kB\u001b[0m \u001b[31m7.0 MB/s\u001b[0m eta \u001b[36m0:00:00\u001b[0m\n",
            "\u001b[?25hDownloading flask_babel-4.0.0-py3-none-any.whl (9.6 kB)\n",
            "Downloading paddle2onnx-1.3.1-cp311-cp311-manylinux_2_17_x86_64.manylinux2014_x86_64.whl (3.6 MB)\n",
            "\u001b[2K   \u001b[90m━━━━━━━━━━━━━━━━━━━━━━━━━━━━━━━━━━━━━━━━\u001b[0m \u001b[32m3.6/3.6 MB\u001b[0m \u001b[31m56.6 MB/s\u001b[0m eta \u001b[36m0:00:00\u001b[0m\n",
            "\u001b[?25hDownloading paddlefsl-1.1.0-py3-none-any.whl (101 kB)\n",
            "\u001b[2K   \u001b[90m━━━━━━━━━━━━━━━━━━━━━━━━━━━━━━━━━━━━━━━━\u001b[0m \u001b[32m101.0/101.0 kB\u001b[0m \u001b[31m6.0 MB/s\u001b[0m eta \u001b[36m0:00:00\u001b[0m\n",
            "\u001b[?25hDownloading tool_helpers-0.1.2-cp311-cp311-manylinux_2_17_x86_64.manylinux2014_x86_64.whl (112 kB)\n",
            "\u001b[2K   \u001b[90m━━━━━━━━━━━━━━━━━━━━━━━━━━━━━━━━━━━━━━━━\u001b[0m \u001b[32m112.4/112.4 kB\u001b[0m \u001b[31m7.3 MB/s\u001b[0m eta \u001b[36m0:00:00\u001b[0m\n",
            "\u001b[?25hDownloading uvicorn-0.34.0-py3-none-any.whl (62 kB)\n",
            "\u001b[2K   \u001b[90m━━━━━━━━━━━━━━━━━━━━━━━━━━━━━━━━━━━━━━━━\u001b[0m \u001b[32m62.3/62.3 kB\u001b[0m \u001b[31m4.6 MB/s\u001b[0m eta \u001b[36m0:00:00\u001b[0m\n",
            "\u001b[?25hDownloading visualdl-2.5.3-py3-none-any.whl (6.3 MB)\n",
            "\u001b[2K   \u001b[90m━━━━━━━━━━━━━━━━━━━━━━━━━━━━━━━━━━━━━━━━\u001b[0m \u001b[32m6.3/6.3 MB\u001b[0m \u001b[31m74.6 MB/s\u001b[0m eta \u001b[36m0:00:00\u001b[0m\n",
            "\u001b[?25hDownloading fsspec-2024.12.0-py3-none-any.whl (183 kB)\n",
            "\u001b[2K   \u001b[90m━━━━━━━━━━━━━━━━━━━━━━━━━━━━━━━━━━━━━━━━\u001b[0m \u001b[32m183.9/183.9 kB\u001b[0m \u001b[31m10.8 MB/s\u001b[0m eta \u001b[36m0:00:00\u001b[0m\n",
            "\u001b[?25hDownloading numpy-1.26.4-cp311-cp311-manylinux_2_17_x86_64.manylinux2014_x86_64.whl (18.3 MB)\n",
            "\u001b[2K   \u001b[90m━━━━━━━━━━━━━━━━━━━━━━━━━━━━━━━━━━━━━━━━\u001b[0m \u001b[32m18.3/18.3 MB\u001b[0m \u001b[31m58.8 MB/s\u001b[0m eta \u001b[36m0:00:00\u001b[0m\n",
            "\u001b[?25hDownloading starlette-0.46.1-py3-none-any.whl (71 kB)\n",
            "\u001b[2K   \u001b[90m━━━━━━━━━━━━━━━━━━━━━━━━━━━━━━━━━━━━━━━━\u001b[0m \u001b[32m72.0/72.0 kB\u001b[0m \u001b[31m4.6 MB/s\u001b[0m eta \u001b[36m0:00:00\u001b[0m\n",
            "\u001b[?25hDownloading bce_python_sdk-0.9.29-py3-none-any.whl (343 kB)\n",
            "\u001b[2K   \u001b[90m━━━━━━━━━━━━━━━━━━━━━━━━━━━━━━━━━━━━━━━━\u001b[0m \u001b[32m343.6/343.6 kB\u001b[0m \u001b[31m19.1 MB/s\u001b[0m eta \u001b[36m0:00:00\u001b[0m\n",
            "\u001b[?25hDownloading pybind11-2.13.6-py3-none-any.whl (243 kB)\n",
            "\u001b[2K   \u001b[90m━━━━━━━━━━━━━━━━━━━━━━━━━━━━━━━━━━━━━━━━\u001b[0m \u001b[32m243.3/243.3 kB\u001b[0m \u001b[31m14.9 MB/s\u001b[0m eta \u001b[36m0:00:00\u001b[0m\n",
            "\u001b[?25hDownloading rarfile-4.2-py3-none-any.whl (29 kB)\n",
            "Downloading xxhash-3.5.0-cp311-cp311-manylinux_2_17_x86_64.manylinux2014_x86_64.whl (194 kB)\n",
            "\u001b[2K   \u001b[90m━━━━━━━━━━━━━━━━━━━━━━━━━━━━━━━━━━━━━━━━\u001b[0m \u001b[32m194.8/194.8 kB\u001b[0m \u001b[31m12.3 MB/s\u001b[0m eta \u001b[36m0:00:00\u001b[0m\n",
            "\u001b[?25hDownloading pycryptodome-3.22.0-cp37-abi3-manylinux_2_17_x86_64.manylinux2014_x86_64.whl (2.3 MB)\n",
            "\u001b[2K   \u001b[90m━━━━━━━━━━━━━━━━━━━━━━━━━━━━━━━━━━━━━━━━\u001b[0m \u001b[32m2.3/2.3 MB\u001b[0m \u001b[31m62.1 MB/s\u001b[0m eta \u001b[36m0:00:00\u001b[0m\n",
            "\u001b[?25hBuilding wheels for collected packages: seqeval\n",
            "  Building wheel for seqeval (setup.py) ... \u001b[?25l\u001b[?25hdone\n",
            "  Created wheel for seqeval: filename=seqeval-1.2.2-py3-none-any.whl size=16161 sha256=ae5a612b650ce088b3405be3c04a365140ca542860792478d6afe8dca9eb6586\n",
            "  Stored in directory: /root/.cache/pip/wheels/bc/92/f0/243288f899c2eacdfa8c5f9aede4c71a9bad0ee26a01dc5ead\n",
            "Successfully built seqeval\n",
            "Installing collected packages: xxhash, uvicorn, rarfile, pycryptodome, pybind11, paddle2onnx, numpy, fsspec, dill, colorlog, colorama, tool-helpers, starlette, paddlefsl, onnx, multiprocess, bce-python-sdk, Flask-Babel, fastapi, aistudio-sdk, visualdl, seqeval, datasets, paddlenlp\n",
            "  Attempting uninstall: numpy\n",
            "    Found existing installation: numpy 2.0.2\n",
            "    Uninstalling numpy-2.0.2:\n",
            "      Successfully uninstalled numpy-2.0.2\n",
            "  Attempting uninstall: fsspec\n",
            "    Found existing installation: fsspec 2025.3.0\n",
            "    Uninstalling fsspec-2025.3.0:\n",
            "      Successfully uninstalled fsspec-2025.3.0\n",
            "\u001b[31mERROR: pip's dependency resolver does not currently take into account all the packages that are installed. This behaviour is the source of the following dependency conflicts.\n",
            "gcsfs 2025.3.0 requires fsspec==2025.3.0, but you have fsspec 2024.12.0 which is incompatible.\n",
            "torch 2.6.0+cu124 requires nvidia-cublas-cu12==12.4.5.8; platform_system == \"Linux\" and platform_machine == \"x86_64\", but you have nvidia-cublas-cu12 12.5.3.2 which is incompatible.\n",
            "torch 2.6.0+cu124 requires nvidia-cuda-cupti-cu12==12.4.127; platform_system == \"Linux\" and platform_machine == \"x86_64\", but you have nvidia-cuda-cupti-cu12 12.5.82 which is incompatible.\n",
            "torch 2.6.0+cu124 requires nvidia-cuda-nvrtc-cu12==12.4.127; platform_system == \"Linux\" and platform_machine == \"x86_64\", but you have nvidia-cuda-nvrtc-cu12 12.5.82 which is incompatible.\n",
            "torch 2.6.0+cu124 requires nvidia-cuda-runtime-cu12==12.4.127; platform_system == \"Linux\" and platform_machine == \"x86_64\", but you have nvidia-cuda-runtime-cu12 12.5.82 which is incompatible.\n",
            "torch 2.6.0+cu124 requires nvidia-cudnn-cu12==9.1.0.70; platform_system == \"Linux\" and platform_machine == \"x86_64\", but you have nvidia-cudnn-cu12 9.3.0.75 which is incompatible.\n",
            "torch 2.6.0+cu124 requires nvidia-cufft-cu12==11.2.1.3; platform_system == \"Linux\" and platform_machine == \"x86_64\", but you have nvidia-cufft-cu12 11.2.3.61 which is incompatible.\n",
            "torch 2.6.0+cu124 requires nvidia-curand-cu12==10.3.5.147; platform_system == \"Linux\" and platform_machine == \"x86_64\", but you have nvidia-curand-cu12 10.3.6.82 which is incompatible.\n",
            "torch 2.6.0+cu124 requires nvidia-cusolver-cu12==11.6.1.9; platform_system == \"Linux\" and platform_machine == \"x86_64\", but you have nvidia-cusolver-cu12 11.6.3.83 which is incompatible.\n",
            "torch 2.6.0+cu124 requires nvidia-cusparse-cu12==12.3.1.170; platform_system == \"Linux\" and platform_machine == \"x86_64\", but you have nvidia-cusparse-cu12 12.5.1.3 which is incompatible.\n",
            "torch 2.6.0+cu124 requires nvidia-nvjitlink-cu12==12.4.127; platform_system == \"Linux\" and platform_machine == \"x86_64\", but you have nvidia-nvjitlink-cu12 12.5.82 which is incompatible.\u001b[0m\u001b[31m\n",
            "\u001b[0mSuccessfully installed Flask-Babel-4.0.0 aistudio-sdk-0.2.6 bce-python-sdk-0.9.29 colorama-0.4.6 colorlog-6.9.0 datasets-3.5.0 dill-0.3.4 fastapi-0.115.12 fsspec-2024.12.0 multiprocess-0.70.12.2 numpy-1.26.4 onnx-1.17.0 paddle2onnx-1.3.1 paddlefsl-1.1.0 paddlenlp-2.8.1 pybind11-2.13.6 pycryptodome-3.22.0 rarfile-4.2 seqeval-1.2.2 starlette-0.46.1 tool-helpers-0.1.2 uvicorn-0.34.0 visualdl-2.5.3 xxhash-3.5.0\n",
            "Collecting paddlepaddle-gpu\n",
            "  Downloading paddlepaddle_gpu-2.6.2-cp311-cp311-manylinux1_x86_64.whl.metadata (8.6 kB)\n",
            "Requirement already satisfied: httpx in /usr/local/lib/python3.11/dist-packages (from paddlepaddle-gpu) (0.28.1)\n",
            "Requirement already satisfied: numpy>=1.13 in /usr/local/lib/python3.11/dist-packages (from paddlepaddle-gpu) (1.26.4)\n",
            "Requirement already satisfied: Pillow in /usr/local/lib/python3.11/dist-packages (from paddlepaddle-gpu) (11.1.0)\n",
            "Requirement already satisfied: decorator in /usr/local/lib/python3.11/dist-packages (from paddlepaddle-gpu) (4.4.2)\n",
            "Collecting astor (from paddlepaddle-gpu)\n",
            "  Downloading astor-0.8.1-py2.py3-none-any.whl.metadata (4.2 kB)\n",
            "Collecting opt-einsum==3.3.0 (from paddlepaddle-gpu)\n",
            "  Downloading opt_einsum-3.3.0-py3-none-any.whl.metadata (6.5 kB)\n",
            "Requirement already satisfied: protobuf>=3.20.2 in /usr/local/lib/python3.11/dist-packages (from paddlepaddle-gpu) (5.29.4)\n",
            "Requirement already satisfied: anyio in /usr/local/lib/python3.11/dist-packages (from httpx->paddlepaddle-gpu) (4.9.0)\n",
            "Requirement already satisfied: certifi in /usr/local/lib/python3.11/dist-packages (from httpx->paddlepaddle-gpu) (2025.1.31)\n",
            "Requirement already satisfied: httpcore==1.* in /usr/local/lib/python3.11/dist-packages (from httpx->paddlepaddle-gpu) (1.0.7)\n",
            "Requirement already satisfied: idna in /usr/local/lib/python3.11/dist-packages (from httpx->paddlepaddle-gpu) (3.10)\n",
            "Requirement already satisfied: h11<0.15,>=0.13 in /usr/local/lib/python3.11/dist-packages (from httpcore==1.*->httpx->paddlepaddle-gpu) (0.14.0)\n",
            "Requirement already satisfied: sniffio>=1.1 in /usr/local/lib/python3.11/dist-packages (from anyio->httpx->paddlepaddle-gpu) (1.3.1)\n",
            "Requirement already satisfied: typing_extensions>=4.5 in /usr/local/lib/python3.11/dist-packages (from anyio->httpx->paddlepaddle-gpu) (4.12.2)\n",
            "Downloading paddlepaddle_gpu-2.6.2-cp311-cp311-manylinux1_x86_64.whl (759.0 MB)\n",
            "\u001b[2K   \u001b[90m━━━━━━━━━━━━━━━━━━━━━━━━━━━━━━━━━━━━━━━━\u001b[0m \u001b[32m759.0/759.0 MB\u001b[0m \u001b[31m1.1 MB/s\u001b[0m eta \u001b[36m0:00:00\u001b[0m\n",
            "\u001b[?25hDownloading opt_einsum-3.3.0-py3-none-any.whl (65 kB)\n",
            "\u001b[2K   \u001b[90m━━━━━━━━━━━━━━━━━━━━━━━━━━━━━━━━━━━━━━━━\u001b[0m \u001b[32m65.5/65.5 kB\u001b[0m \u001b[31m4.3 MB/s\u001b[0m eta \u001b[36m0:00:00\u001b[0m\n",
            "\u001b[?25hDownloading astor-0.8.1-py2.py3-none-any.whl (27 kB)\n",
            "Installing collected packages: opt-einsum, astor, paddlepaddle-gpu\n",
            "  Attempting uninstall: opt-einsum\n",
            "    Found existing installation: opt_einsum 3.4.0\n",
            "    Uninstalling opt_einsum-3.4.0:\n",
            "      Successfully uninstalled opt_einsum-3.4.0\n",
            "Successfully installed astor-0.8.1 opt-einsum-3.3.0 paddlepaddle-gpu-2.6.2\n",
            "Collecting paddlepaddle\n",
            "  Downloading paddlepaddle-3.0.0-cp311-cp311-manylinux1_x86_64.whl.metadata (8.9 kB)\n",
            "Requirement already satisfied: httpx in /usr/local/lib/python3.11/dist-packages (from paddlepaddle) (0.28.1)\n",
            "Requirement already satisfied: numpy>=1.21 in /usr/local/lib/python3.11/dist-packages (from paddlepaddle) (1.26.4)\n",
            "Requirement already satisfied: protobuf>=3.20.2 in /usr/local/lib/python3.11/dist-packages (from paddlepaddle) (5.29.4)\n",
            "Requirement already satisfied: Pillow in /usr/local/lib/python3.11/dist-packages (from paddlepaddle) (11.1.0)\n",
            "Requirement already satisfied: decorator in /usr/local/lib/python3.11/dist-packages (from paddlepaddle) (4.4.2)\n",
            "Requirement already satisfied: astor in /usr/local/lib/python3.11/dist-packages (from paddlepaddle) (0.8.1)\n",
            "Requirement already satisfied: opt_einsum==3.3.0 in /usr/local/lib/python3.11/dist-packages (from paddlepaddle) (3.3.0)\n",
            "Requirement already satisfied: networkx in /usr/local/lib/python3.11/dist-packages (from paddlepaddle) (3.4.2)\n",
            "Requirement already satisfied: typing_extensions in /usr/local/lib/python3.11/dist-packages (from paddlepaddle) (4.12.2)\n",
            "Requirement already satisfied: anyio in /usr/local/lib/python3.11/dist-packages (from httpx->paddlepaddle) (4.9.0)\n",
            "Requirement already satisfied: certifi in /usr/local/lib/python3.11/dist-packages (from httpx->paddlepaddle) (2025.1.31)\n",
            "Requirement already satisfied: httpcore==1.* in /usr/local/lib/python3.11/dist-packages (from httpx->paddlepaddle) (1.0.7)\n",
            "Requirement already satisfied: idna in /usr/local/lib/python3.11/dist-packages (from httpx->paddlepaddle) (3.10)\n",
            "Requirement already satisfied: h11<0.15,>=0.13 in /usr/local/lib/python3.11/dist-packages (from httpcore==1.*->httpx->paddlepaddle) (0.14.0)\n",
            "Requirement already satisfied: sniffio>=1.1 in /usr/local/lib/python3.11/dist-packages (from anyio->httpx->paddlepaddle) (1.3.1)\n",
            "Downloading paddlepaddle-3.0.0-cp311-cp311-manylinux1_x86_64.whl (192.8 MB)\n",
            "\u001b[2K   \u001b[90m━━━━━━━━━━━━━━━━━━━━━━━━━━━━━━━━━━━━━━━━\u001b[0m \u001b[32m192.8/192.8 MB\u001b[0m \u001b[31m6.3 MB/s\u001b[0m eta \u001b[36m0:00:00\u001b[0m\n",
            "\u001b[?25hInstalling collected packages: paddlepaddle\n",
            "Successfully installed paddlepaddle-3.0.0\n"
          ]
        }
      ]
    },
    {
      "cell_type": "code",
      "source": [
        "!pip install torch"
      ],
      "metadata": {
        "colab": {
          "base_uri": "https://localhost:8080/"
        },
        "id": "1qovfg7h-hiU",
        "outputId": "a32b1426-9c88-4c97-afc3-e549c8df06d1"
      },
      "execution_count": null,
      "outputs": [
        {
          "output_type": "stream",
          "name": "stdout",
          "text": [
            "Requirement already satisfied: torch in /usr/local/lib/python3.11/dist-packages (2.6.0+cu124)\n",
            "Requirement already satisfied: filelock in /usr/local/lib/python3.11/dist-packages (from torch) (3.18.0)\n",
            "Requirement already satisfied: typing-extensions>=4.10.0 in /usr/local/lib/python3.11/dist-packages (from torch) (4.12.2)\n",
            "Requirement already satisfied: networkx in /usr/local/lib/python3.11/dist-packages (from torch) (3.4.2)\n",
            "Requirement already satisfied: jinja2 in /usr/local/lib/python3.11/dist-packages (from torch) (3.1.6)\n",
            "Requirement already satisfied: fsspec in /usr/local/lib/python3.11/dist-packages (from torch) (2024.12.0)\n",
            "Collecting nvidia-cuda-nvrtc-cu12==12.4.127 (from torch)\n",
            "  Downloading nvidia_cuda_nvrtc_cu12-12.4.127-py3-none-manylinux2014_x86_64.whl.metadata (1.5 kB)\n",
            "Collecting nvidia-cuda-runtime-cu12==12.4.127 (from torch)\n",
            "  Downloading nvidia_cuda_runtime_cu12-12.4.127-py3-none-manylinux2014_x86_64.whl.metadata (1.5 kB)\n",
            "Collecting nvidia-cuda-cupti-cu12==12.4.127 (from torch)\n",
            "  Downloading nvidia_cuda_cupti_cu12-12.4.127-py3-none-manylinux2014_x86_64.whl.metadata (1.6 kB)\n",
            "Collecting nvidia-cudnn-cu12==9.1.0.70 (from torch)\n",
            "  Downloading nvidia_cudnn_cu12-9.1.0.70-py3-none-manylinux2014_x86_64.whl.metadata (1.6 kB)\n",
            "Collecting nvidia-cublas-cu12==12.4.5.8 (from torch)\n",
            "  Downloading nvidia_cublas_cu12-12.4.5.8-py3-none-manylinux2014_x86_64.whl.metadata (1.5 kB)\n",
            "Collecting nvidia-cufft-cu12==11.2.1.3 (from torch)\n",
            "  Downloading nvidia_cufft_cu12-11.2.1.3-py3-none-manylinux2014_x86_64.whl.metadata (1.5 kB)\n",
            "Collecting nvidia-curand-cu12==10.3.5.147 (from torch)\n",
            "  Downloading nvidia_curand_cu12-10.3.5.147-py3-none-manylinux2014_x86_64.whl.metadata (1.5 kB)\n",
            "Collecting nvidia-cusolver-cu12==11.6.1.9 (from torch)\n",
            "  Downloading nvidia_cusolver_cu12-11.6.1.9-py3-none-manylinux2014_x86_64.whl.metadata (1.6 kB)\n",
            "Collecting nvidia-cusparse-cu12==12.3.1.170 (from torch)\n",
            "  Downloading nvidia_cusparse_cu12-12.3.1.170-py3-none-manylinux2014_x86_64.whl.metadata (1.6 kB)\n",
            "Requirement already satisfied: nvidia-cusparselt-cu12==0.6.2 in /usr/local/lib/python3.11/dist-packages (from torch) (0.6.2)\n",
            "Requirement already satisfied: nvidia-nccl-cu12==2.21.5 in /usr/local/lib/python3.11/dist-packages (from torch) (2.21.5)\n",
            "Requirement already satisfied: nvidia-nvtx-cu12==12.4.127 in /usr/local/lib/python3.11/dist-packages (from torch) (12.4.127)\n",
            "Collecting nvidia-nvjitlink-cu12==12.4.127 (from torch)\n",
            "  Downloading nvidia_nvjitlink_cu12-12.4.127-py3-none-manylinux2014_x86_64.whl.metadata (1.5 kB)\n",
            "Requirement already satisfied: triton==3.2.0 in /usr/local/lib/python3.11/dist-packages (from torch) (3.2.0)\n",
            "Requirement already satisfied: sympy==1.13.1 in /usr/local/lib/python3.11/dist-packages (from torch) (1.13.1)\n",
            "Requirement already satisfied: mpmath<1.4,>=1.1.0 in /usr/local/lib/python3.11/dist-packages (from sympy==1.13.1->torch) (1.3.0)\n",
            "Requirement already satisfied: MarkupSafe>=2.0 in /usr/local/lib/python3.11/dist-packages (from jinja2->torch) (3.0.2)\n",
            "Downloading nvidia_cublas_cu12-12.4.5.8-py3-none-manylinux2014_x86_64.whl (363.4 MB)\n",
            "\u001b[2K   \u001b[90m━━━━━━━━━━━━━━━━━━━━━━━━━━━━━━━━━━━━━━━━\u001b[0m \u001b[32m363.4/363.4 MB\u001b[0m \u001b[31m3.7 MB/s\u001b[0m eta \u001b[36m0:00:00\u001b[0m\n",
            "\u001b[?25hDownloading nvidia_cuda_cupti_cu12-12.4.127-py3-none-manylinux2014_x86_64.whl (13.8 MB)\n",
            "\u001b[2K   \u001b[90m━━━━━━━━━━━━━━━━━━━━━━━━━━━━━━━━━━━━━━━━\u001b[0m \u001b[32m13.8/13.8 MB\u001b[0m \u001b[31m63.9 MB/s\u001b[0m eta \u001b[36m0:00:00\u001b[0m\n",
            "\u001b[?25hDownloading nvidia_cuda_nvrtc_cu12-12.4.127-py3-none-manylinux2014_x86_64.whl (24.6 MB)\n",
            "\u001b[2K   \u001b[90m━━━━━━━━━━━━━━━━━━━━━━━━━━━━━━━━━━━━━━━━\u001b[0m \u001b[32m24.6/24.6 MB\u001b[0m \u001b[31m49.1 MB/s\u001b[0m eta \u001b[36m0:00:00\u001b[0m\n",
            "\u001b[?25hDownloading nvidia_cuda_runtime_cu12-12.4.127-py3-none-manylinux2014_x86_64.whl (883 kB)\n",
            "\u001b[2K   \u001b[90m━━━━━━━━━━━━━━━━━━━━━━━━━━━━━━━━━━━━━━━━\u001b[0m \u001b[32m883.7/883.7 kB\u001b[0m \u001b[31m37.6 MB/s\u001b[0m eta \u001b[36m0:00:00\u001b[0m\n",
            "\u001b[?25hDownloading nvidia_cudnn_cu12-9.1.0.70-py3-none-manylinux2014_x86_64.whl (664.8 MB)\n",
            "\u001b[2K   \u001b[90m━━━━━━━━━━━━━━━━━━━━━━━━━━━━━━━━━━━━━━━━\u001b[0m \u001b[32m664.8/664.8 MB\u001b[0m \u001b[31m1.6 MB/s\u001b[0m eta \u001b[36m0:00:00\u001b[0m\n",
            "\u001b[?25hDownloading nvidia_cufft_cu12-11.2.1.3-py3-none-manylinux2014_x86_64.whl (211.5 MB)\n",
            "\u001b[2K   \u001b[90m━━━━━━━━━━━━━━━━━━━━━━━━━━━━━━━━━━━━━━━━\u001b[0m \u001b[32m211.5/211.5 MB\u001b[0m \u001b[31m5.9 MB/s\u001b[0m eta \u001b[36m0:00:00\u001b[0m\n",
            "\u001b[?25hDownloading nvidia_curand_cu12-10.3.5.147-py3-none-manylinux2014_x86_64.whl (56.3 MB)\n",
            "\u001b[2K   \u001b[90m━━━━━━━━━━━━━━━━━━━━━━━━━━━━━━━━━━━━━━━━\u001b[0m \u001b[32m56.3/56.3 MB\u001b[0m \u001b[31m12.9 MB/s\u001b[0m eta \u001b[36m0:00:00\u001b[0m\n",
            "\u001b[?25hDownloading nvidia_cusolver_cu12-11.6.1.9-py3-none-manylinux2014_x86_64.whl (127.9 MB)\n",
            "\u001b[2K   \u001b[90m━━━━━━━━━━━━━━━━━━━━━━━━━━━━━━━━━━━━━━━━\u001b[0m \u001b[32m127.9/127.9 MB\u001b[0m \u001b[31m7.2 MB/s\u001b[0m eta \u001b[36m0:00:00\u001b[0m\n",
            "\u001b[?25hDownloading nvidia_cusparse_cu12-12.3.1.170-py3-none-manylinux2014_x86_64.whl (207.5 MB)\n",
            "\u001b[2K   \u001b[90m━━━━━━━━━━━━━━━━━━━━━━━━━━━━━━━━━━━━━━━━\u001b[0m \u001b[32m207.5/207.5 MB\u001b[0m \u001b[31m6.2 MB/s\u001b[0m eta \u001b[36m0:00:00\u001b[0m\n",
            "\u001b[?25hDownloading nvidia_nvjitlink_cu12-12.4.127-py3-none-manylinux2014_x86_64.whl (21.1 MB)\n",
            "\u001b[2K   \u001b[90m━━━━━━━━━━━━━━━━━━━━━━━━━━━━━━━━━━━━━━━━\u001b[0m \u001b[32m21.1/21.1 MB\u001b[0m \u001b[31m58.3 MB/s\u001b[0m eta \u001b[36m0:00:00\u001b[0m\n",
            "\u001b[?25hInstalling collected packages: nvidia-nvjitlink-cu12, nvidia-curand-cu12, nvidia-cufft-cu12, nvidia-cuda-runtime-cu12, nvidia-cuda-nvrtc-cu12, nvidia-cuda-cupti-cu12, nvidia-cublas-cu12, nvidia-cusparse-cu12, nvidia-cudnn-cu12, nvidia-cusolver-cu12\n",
            "  Attempting uninstall: nvidia-nvjitlink-cu12\n",
            "    Found existing installation: nvidia-nvjitlink-cu12 12.5.82\n",
            "    Uninstalling nvidia-nvjitlink-cu12-12.5.82:\n",
            "      Successfully uninstalled nvidia-nvjitlink-cu12-12.5.82\n",
            "  Attempting uninstall: nvidia-curand-cu12\n",
            "    Found existing installation: nvidia-curand-cu12 10.3.6.82\n",
            "    Uninstalling nvidia-curand-cu12-10.3.6.82:\n",
            "      Successfully uninstalled nvidia-curand-cu12-10.3.6.82\n",
            "  Attempting uninstall: nvidia-cufft-cu12\n",
            "    Found existing installation: nvidia-cufft-cu12 11.2.3.61\n",
            "    Uninstalling nvidia-cufft-cu12-11.2.3.61:\n",
            "      Successfully uninstalled nvidia-cufft-cu12-11.2.3.61\n",
            "  Attempting uninstall: nvidia-cuda-runtime-cu12\n",
            "    Found existing installation: nvidia-cuda-runtime-cu12 12.5.82\n",
            "    Uninstalling nvidia-cuda-runtime-cu12-12.5.82:\n",
            "      Successfully uninstalled nvidia-cuda-runtime-cu12-12.5.82\n",
            "  Attempting uninstall: nvidia-cuda-nvrtc-cu12\n",
            "    Found existing installation: nvidia-cuda-nvrtc-cu12 12.5.82\n",
            "    Uninstalling nvidia-cuda-nvrtc-cu12-12.5.82:\n",
            "      Successfully uninstalled nvidia-cuda-nvrtc-cu12-12.5.82\n",
            "  Attempting uninstall: nvidia-cuda-cupti-cu12\n",
            "    Found existing installation: nvidia-cuda-cupti-cu12 12.5.82\n",
            "    Uninstalling nvidia-cuda-cupti-cu12-12.5.82:\n",
            "      Successfully uninstalled nvidia-cuda-cupti-cu12-12.5.82\n",
            "  Attempting uninstall: nvidia-cublas-cu12\n",
            "    Found existing installation: nvidia-cublas-cu12 12.5.3.2\n",
            "    Uninstalling nvidia-cublas-cu12-12.5.3.2:\n",
            "      Successfully uninstalled nvidia-cublas-cu12-12.5.3.2\n",
            "  Attempting uninstall: nvidia-cusparse-cu12\n",
            "    Found existing installation: nvidia-cusparse-cu12 12.5.1.3\n",
            "    Uninstalling nvidia-cusparse-cu12-12.5.1.3:\n",
            "      Successfully uninstalled nvidia-cusparse-cu12-12.5.1.3\n",
            "  Attempting uninstall: nvidia-cudnn-cu12\n",
            "    Found existing installation: nvidia-cudnn-cu12 9.3.0.75\n",
            "    Uninstalling nvidia-cudnn-cu12-9.3.0.75:\n",
            "      Successfully uninstalled nvidia-cudnn-cu12-9.3.0.75\n",
            "  Attempting uninstall: nvidia-cusolver-cu12\n",
            "    Found existing installation: nvidia-cusolver-cu12 11.6.3.83\n",
            "    Uninstalling nvidia-cusolver-cu12-11.6.3.83:\n",
            "      Successfully uninstalled nvidia-cusolver-cu12-11.6.3.83\n",
            "Successfully installed nvidia-cublas-cu12-12.4.5.8 nvidia-cuda-cupti-cu12-12.4.127 nvidia-cuda-nvrtc-cu12-12.4.127 nvidia-cuda-runtime-cu12-12.4.127 nvidia-cudnn-cu12-9.1.0.70 nvidia-cufft-cu12-11.2.1.3 nvidia-curand-cu12-10.3.5.147 nvidia-cusolver-cu12-11.6.1.9 nvidia-cusparse-cu12-12.3.1.170 nvidia-nvjitlink-cu12-12.4.127\n"
          ]
        }
      ]
    },
    {
      "cell_type": "code",
      "source": [
        "!python3 script/Bi\\LSTM-dynamic-att-LSTM.py"
      ],
      "metadata": {
        "colab": {
          "base_uri": "https://localhost:8080/"
        },
        "id": "pCvfY55T1Y8B",
        "outputId": "4f4d4ae6-f101-40e6-edec-b7de3b12b414"
      },
      "execution_count": null,
      "outputs": [
        {
          "output_type": "stream",
          "name": "stdout",
          "text": [
            "/usr/local/lib/python3.11/dist-packages/paddle/utils/cpp_extension/extension_utils.py:711: UserWarning: No ccache found. Please be aware that recompiling all source files may be required. You can download and install ccache from: https://github.com/ccache/ccache/blob/master/doc/INSTALL.md\n",
            "  warnings.warn(warning_message)\n",
            "/usr/local/lib/python3.11/dist-packages/_distutils_hack/__init__.py:31: UserWarning: Setuptools is replacing distutils. Support for replacing an already imported distutils is deprecated. In the future, this condition will fail. Register concerns at https://github.com/pypa/setuptools/issues/new?template=distutils-deprecation.yml\n",
            "  warnings.warn(\n",
            "{0: 'B_AP', 1: 'B_AP_M_1', 2: 'B_AP_M_m', 3: 'B_AP_based-on_1', 4: 'B_AP_hasImpact_1', 5: 'B_AP_located-at_1', 6: 'B_AP_mitigates_2', 7: 'B_AP_targets_1', 8: 'B_AP_uses_1', 9: 'B_AV', 10: 'B_AV_M_2', 11: 'B_AV_based-on_2', 12: 'B_AV_hasInterface_2', 13: 'B_CoA', 14: 'B_CoA_mitigates_1', 15: 'B_Com', 16: 'B_Com_M_1', 17: 'B_Com_M_2', 18: 'B_Com_M_m', 19: 'B_Com_consists-of_1', 20: 'B_Com_consists-of_2', 21: 'B_Com_hasInterface_1', 22: 'B_Com_hasVulnerability_1', 23: 'B_Com_related-to_1', 24: 'B_Com_targets_2', 25: 'B_Con', 26: 'B_Con_hasImpact_2', 27: 'B_Ide', 28: 'B_Ide_M_m', 29: 'B_Ide_located-at_1', 30: 'B_Ide_related-to_2', 31: 'B_Loc', 32: 'B_Loc_located-at_2', 33: 'B_Tool', 34: 'B_Tool_targets_1', 35: 'B_Tool_uses_2', 36: 'B_Veh', 37: 'B_Veh_M_m', 38: 'B_Veh_consists-of_2', 39: 'B_Veh_related-to_1', 40: 'B_Vul', 41: 'B_Vul_M_1', 42: 'B_Vul_M_2', 43: 'B_Vul_M_m', 44: 'B_Vul_hasImpact_1', 45: 'B_Vul_hasVulnerability_2', 46: 'B_Vul_related-to_1', 47: 'B_Vul_targets_2', 48: 'E_AP', 49: 'E_AP_M_1', 50: 'E_AP_M_m', 51: 'E_AP_based-on_1', 52: 'E_AP_hasImpact_1', 53: 'E_AP_located-at_1', 54: 'E_AP_mitigates_2', 55: 'E_AP_targets_1', 56: 'E_AP_uses_1', 57: 'E_AV', 58: 'E_AV_M_2', 59: 'E_AV_based-on_2', 60: 'E_AV_hasInterface_2', 61: 'E_CoA', 62: 'E_CoA_mitigates_1', 63: 'E_Com', 64: 'E_Com_M_1', 65: 'E_Com_M_2', 66: 'E_Com_M_m', 67: 'E_Com_consists-of_1', 68: 'E_Com_consists-of_2', 69: 'E_Com_hasInterface_1', 70: 'E_Com_hasVulnerability_1', 71: 'E_Com_related-to_1', 72: 'E_Com_targets_2', 73: 'E_Con', 74: 'E_Con_hasImpact_2', 75: 'E_Ide', 76: 'E_Ide_M_m', 77: 'E_Ide_located-at_1', 78: 'E_Ide_related-to_2', 79: 'E_Loc', 80: 'E_Loc_located-at_2', 81: 'E_Tool', 82: 'E_Tool_targets_1', 83: 'E_Tool_uses_2', 84: 'E_Veh', 85: 'E_Veh_M_m', 86: 'E_Veh_consists-of_2', 87: 'E_Veh_related-to_1', 88: 'E_Vul', 89: 'E_Vul_M_1', 90: 'E_Vul_M_2', 91: 'E_Vul_M_m', 92: 'E_Vul_hasImpact_1', 93: 'E_Vul_hasVulnerability_2', 94: 'E_Vul_related-to_1', 95: 'E_Vul_targets_2', 96: 'I_AP', 97: 'I_AP_M_1', 98: 'I_AP_M_m', 99: 'I_AP_based-on_1', 100: 'I_AP_hasImpact_1', 101: 'I_AP_located-at_1', 102: 'I_AP_targets_1', 103: 'I_AP_uses_1', 104: 'I_AV', 105: 'I_AV_M_2', 106: 'I_AV_based-on_2', 107: 'I_AV_hasInterface_2', 108: 'I_CoA', 109: 'I_CoA_mitigates_1', 110: 'I_Com', 111: 'I_Com_M_1', 112: 'I_Com_M_2', 113: 'I_Com_M_m', 114: 'I_Com_consists-of_1', 115: 'I_Com_consists-of_2', 116: 'I_Com_hasVulnerability_1', 117: 'I_Com_related-to_1', 118: 'I_Com_targets_2', 119: 'I_Con', 120: 'I_Con_hasImpact_2', 121: 'I_Ide', 122: 'I_Ide_M_m', 123: 'I_Ide_located-at_1', 124: 'I_Ide_related-to_2', 125: 'I_Loc', 126: 'I_Tool', 127: 'I_Tool_targets_1', 128: 'I_Tool_uses_2', 129: 'I_Veh', 130: 'I_Veh_M_m', 131: 'I_Veh_consists-of_2', 132: 'I_Veh_related-to_1', 133: 'I_Vul', 134: 'I_Vul_M_1', 135: 'I_Vul_M_2', 136: 'I_Vul_M_m', 137: 'I_Vul_hasImpact_1', 138: 'I_Vul_hasVulnerability_2', 139: 'I_Vul_related-to_1', 140: 'I_Vul_targets_2', 141: 'O', 142: 'S_AP', 143: 'S_AP_M_1', 144: 'S_AP_M_m', 145: 'S_AP_based-on_1', 146: 'S_AP_hasImpact_1', 147: 'S_AP_mitigates_2', 148: 'S_AP_targets_1', 149: 'S_AP_uses_1', 150: 'S_AV', 151: 'S_AV_M_2', 152: 'S_AV_based-on_2', 153: 'S_AV_hasInterface_2', 154: 'S_CoA_mitigates_1', 155: 'S_Com', 156: 'S_Com_M_1', 157: 'S_Com_M_2', 158: 'S_Com_M_m', 159: 'S_Com_consists-of_1', 160: 'S_Com_consists-of_2', 161: 'S_Com_hasVulnerability_1', 162: 'S_Com_related-to_1', 163: 'S_Com_targets_2', 164: 'S_Con', 165: 'S_Con_hasImpact_2', 166: 'S_Ide', 167: 'S_Ide_M_m', 168: 'S_Ide_located-at_1', 169: 'S_Ide_related-to_2', 170: 'S_Loc', 171: 'S_Loc_located-at_2', 172: 'S_Tool', 173: 'S_Tool_uses_2', 174: 'S_Veh', 175: 'S_Veh_M_m', 176: 'S_Veh_consists-of_2', 177: 'S_Veh_related-to_1', 178: 'S_Vul', 179: 'S_Vul_M_2', 180: 'S_Vul_M_m', 181: 'S_Vul_hasImpact_1', 182: 'S_Vul_hasVulnerability_2'}\n",
            "{'B_AP': 0, 'B_AP_M_1': 1, 'B_AP_M_m': 2, 'B_AP_based-on_1': 3, 'B_AP_hasImpact_1': 4, 'B_AP_located-at_1': 5, 'B_AP_mitigates_2': 6, 'B_AP_targets_1': 7, 'B_AP_uses_1': 8, 'B_AV': 9, 'B_AV_M_2': 10, 'B_AV_based-on_2': 11, 'B_AV_hasInterface_2': 12, 'B_CoA': 13, 'B_CoA_mitigates_1': 14, 'B_Com': 15, 'B_Com_M_1': 16, 'B_Com_M_2': 17, 'B_Com_M_m': 18, 'B_Com_consists-of_1': 19, 'B_Com_consists-of_2': 20, 'B_Com_hasInterface_1': 21, 'B_Com_hasVulnerability_1': 22, 'B_Com_related-to_1': 23, 'B_Com_targets_2': 24, 'B_Con': 25, 'B_Con_hasImpact_2': 26, 'B_Ide': 27, 'B_Ide_M_m': 28, 'B_Ide_located-at_1': 29, 'B_Ide_related-to_2': 30, 'B_Loc': 31, 'B_Loc_located-at_2': 32, 'B_Tool': 33, 'B_Tool_targets_1': 34, 'B_Tool_uses_2': 35, 'B_Veh': 36, 'B_Veh_M_m': 37, 'B_Veh_consists-of_2': 38, 'B_Veh_related-to_1': 39, 'B_Vul': 40, 'B_Vul_M_1': 41, 'B_Vul_M_2': 42, 'B_Vul_M_m': 43, 'B_Vul_hasImpact_1': 44, 'B_Vul_hasVulnerability_2': 45, 'B_Vul_related-to_1': 46, 'B_Vul_targets_2': 47, 'E_AP': 48, 'E_AP_M_1': 49, 'E_AP_M_m': 50, 'E_AP_based-on_1': 51, 'E_AP_hasImpact_1': 52, 'E_AP_located-at_1': 53, 'E_AP_mitigates_2': 54, 'E_AP_targets_1': 55, 'E_AP_uses_1': 56, 'E_AV': 57, 'E_AV_M_2': 58, 'E_AV_based-on_2': 59, 'E_AV_hasInterface_2': 60, 'E_CoA': 61, 'E_CoA_mitigates_1': 62, 'E_Com': 63, 'E_Com_M_1': 64, 'E_Com_M_2': 65, 'E_Com_M_m': 66, 'E_Com_consists-of_1': 67, 'E_Com_consists-of_2': 68, 'E_Com_hasInterface_1': 69, 'E_Com_hasVulnerability_1': 70, 'E_Com_related-to_1': 71, 'E_Com_targets_2': 72, 'E_Con': 73, 'E_Con_hasImpact_2': 74, 'E_Ide': 75, 'E_Ide_M_m': 76, 'E_Ide_located-at_1': 77, 'E_Ide_related-to_2': 78, 'E_Loc': 79, 'E_Loc_located-at_2': 80, 'E_Tool': 81, 'E_Tool_targets_1': 82, 'E_Tool_uses_2': 83, 'E_Veh': 84, 'E_Veh_M_m': 85, 'E_Veh_consists-of_2': 86, 'E_Veh_related-to_1': 87, 'E_Vul': 88, 'E_Vul_M_1': 89, 'E_Vul_M_2': 90, 'E_Vul_M_m': 91, 'E_Vul_hasImpact_1': 92, 'E_Vul_hasVulnerability_2': 93, 'E_Vul_related-to_1': 94, 'E_Vul_targets_2': 95, 'I_AP': 96, 'I_AP_M_1': 97, 'I_AP_M_m': 98, 'I_AP_based-on_1': 99, 'I_AP_hasImpact_1': 100, 'I_AP_located-at_1': 101, 'I_AP_targets_1': 102, 'I_AP_uses_1': 103, 'I_AV': 104, 'I_AV_M_2': 105, 'I_AV_based-on_2': 106, 'I_AV_hasInterface_2': 107, 'I_CoA': 108, 'I_CoA_mitigates_1': 109, 'I_Com': 110, 'I_Com_M_1': 111, 'I_Com_M_2': 112, 'I_Com_M_m': 113, 'I_Com_consists-of_1': 114, 'I_Com_consists-of_2': 115, 'I_Com_hasVulnerability_1': 116, 'I_Com_related-to_1': 117, 'I_Com_targets_2': 118, 'I_Con': 119, 'I_Con_hasImpact_2': 120, 'I_Ide': 121, 'I_Ide_M_m': 122, 'I_Ide_located-at_1': 123, 'I_Ide_related-to_2': 124, 'I_Loc': 125, 'I_Tool': 126, 'I_Tool_targets_1': 127, 'I_Tool_uses_2': 128, 'I_Veh': 129, 'I_Veh_M_m': 130, 'I_Veh_consists-of_2': 131, 'I_Veh_related-to_1': 132, 'I_Vul': 133, 'I_Vul_M_1': 134, 'I_Vul_M_2': 135, 'I_Vul_M_m': 136, 'I_Vul_hasImpact_1': 137, 'I_Vul_hasVulnerability_2': 138, 'I_Vul_related-to_1': 139, 'I_Vul_targets_2': 140, 'O': 141, 'S_AP': 142, 'S_AP_M_1': 143, 'S_AP_M_m': 144, 'S_AP_based-on_1': 145, 'S_AP_hasImpact_1': 146, 'S_AP_mitigates_2': 147, 'S_AP_targets_1': 148, 'S_AP_uses_1': 149, 'S_AV': 150, 'S_AV_M_2': 151, 'S_AV_based-on_2': 152, 'S_AV_hasInterface_2': 153, 'S_CoA_mitigates_1': 154, 'S_Com': 155, 'S_Com_M_1': 156, 'S_Com_M_2': 157, 'S_Com_M_m': 158, 'S_Com_consists-of_1': 159, 'S_Com_consists-of_2': 160, 'S_Com_hasVulnerability_1': 161, 'S_Com_related-to_1': 162, 'S_Com_targets_2': 163, 'S_Con': 164, 'S_Con_hasImpact_2': 165, 'S_Ide': 166, 'S_Ide_M_m': 167, 'S_Ide_located-at_1': 168, 'S_Ide_related-to_2': 169, 'S_Loc': 170, 'S_Loc_located-at_2': 171, 'S_Tool': 172, 'S_Tool_uses_2': 173, 'S_Veh': 174, 'S_Veh_M_m': 175, 'S_Veh_consists-of_2': 176, 'S_Veh_related-to_1': 177, 'S_Vul': 178, 'S_Vul_M_2': 179, 'S_Vul_M_m': 180, 'S_Vul_hasImpact_1': 181, 'S_Vul_hasVulnerability_2': 182}\n",
            "['B_AP', 'B_AP_M_1', 'B_AP_M_m', 'B_AP_based-on_1', 'B_AP_hasImpact_1', 'B_AP_located-at_1', 'B_AP_mitigates_2', 'B_AP_targets_1', 'B_AP_uses_1', 'B_AV', 'B_AV_M_2', 'B_AV_based-on_2', 'B_AV_hasInterface_2', 'B_CoA', 'B_CoA_mitigates_1', 'B_Com', 'B_Com_M_1', 'B_Com_M_2', 'B_Com_M_m', 'B_Com_consists-of_1', 'B_Com_consists-of_2', 'B_Com_hasInterface_1', 'B_Com_hasVulnerability_1', 'B_Com_related-to_1', 'B_Com_targets_2', 'B_Con', 'B_Con_hasImpact_2', 'B_Ide', 'B_Ide_M_m', 'B_Ide_located-at_1', 'B_Ide_related-to_2', 'B_Loc', 'B_Loc_located-at_2', 'B_Tool', 'B_Tool_targets_1', 'B_Tool_uses_2', 'B_Veh', 'B_Veh_M_m', 'B_Veh_consists-of_2', 'B_Veh_related-to_1', 'B_Vul', 'B_Vul_M_1', 'B_Vul_M_2', 'B_Vul_M_m', 'B_Vul_hasImpact_1', 'B_Vul_hasVulnerability_2', 'B_Vul_related-to_1', 'B_Vul_targets_2', 'E_AP', 'E_AP_M_1', 'E_AP_M_m', 'E_AP_based-on_1', 'E_AP_hasImpact_1', 'E_AP_located-at_1', 'E_AP_mitigates_2', 'E_AP_targets_1', 'E_AP_uses_1', 'E_AV', 'E_AV_M_2', 'E_AV_based-on_2', 'E_AV_hasInterface_2', 'E_CoA', 'E_CoA_mitigates_1', 'E_Com', 'E_Com_M_1', 'E_Com_M_2', 'E_Com_M_m', 'E_Com_consists-of_1', 'E_Com_consists-of_2', 'E_Com_hasInterface_1', 'E_Com_hasVulnerability_1', 'E_Com_related-to_1', 'E_Com_targets_2', 'E_Con', 'E_Con_hasImpact_2', 'E_Ide', 'E_Ide_M_m', 'E_Ide_located-at_1', 'E_Ide_related-to_2', 'E_Loc', 'E_Loc_located-at_2', 'E_Tool', 'E_Tool_targets_1', 'E_Tool_uses_2', 'E_Veh', 'E_Veh_M_m', 'E_Veh_consists-of_2', 'E_Veh_related-to_1', 'E_Vul', 'E_Vul_M_1', 'E_Vul_M_2', 'E_Vul_M_m', 'E_Vul_hasImpact_1', 'E_Vul_hasVulnerability_2', 'E_Vul_related-to_1', 'E_Vul_targets_2', 'I_AP', 'I_AP_M_1', 'I_AP_M_m', 'I_AP_based-on_1', 'I_AP_hasImpact_1', 'I_AP_located-at_1', 'I_AP_targets_1', 'I_AP_uses_1', 'I_AV', 'I_AV_M_2', 'I_AV_based-on_2', 'I_AV_hasInterface_2', 'I_CoA', 'I_CoA_mitigates_1', 'I_Com', 'I_Com_M_1', 'I_Com_M_2', 'I_Com_M_m', 'I_Com_consists-of_1', 'I_Com_consists-of_2', 'I_Com_hasVulnerability_1', 'I_Com_related-to_1', 'I_Com_targets_2', 'I_Con', 'I_Con_hasImpact_2', 'I_Ide', 'I_Ide_M_m', 'I_Ide_located-at_1', 'I_Ide_related-to_2', 'I_Loc', 'I_Tool', 'I_Tool_targets_1', 'I_Tool_uses_2', 'I_Veh', 'I_Veh_M_m', 'I_Veh_consists-of_2', 'I_Veh_related-to_1', 'I_Vul', 'I_Vul_M_1', 'I_Vul_M_2', 'I_Vul_M_m', 'I_Vul_hasImpact_1', 'I_Vul_hasVulnerability_2', 'I_Vul_related-to_1', 'I_Vul_targets_2', 'O', 'S_AP', 'S_AP_M_1', 'S_AP_M_m', 'S_AP_based-on_1', 'S_AP_hasImpact_1', 'S_AP_mitigates_2', 'S_AP_targets_1', 'S_AP_uses_1', 'S_AV', 'S_AV_M_2', 'S_AV_based-on_2', 'S_AV_hasInterface_2', 'S_CoA_mitigates_1', 'S_Com', 'S_Com_M_1', 'S_Com_M_2', 'S_Com_M_m', 'S_Com_consists-of_1', 'S_Com_consists-of_2', 'S_Com_hasVulnerability_1', 'S_Com_related-to_1', 'S_Com_targets_2', 'S_Con', 'S_Con_hasImpact_2', 'S_Ide', 'S_Ide_M_m', 'S_Ide_located-at_1', 'S_Ide_related-to_2', 'S_Loc', 'S_Loc_located-at_2', 'S_Tool', 'S_Tool_uses_2', 'S_Veh', 'S_Veh_M_m', 'S_Veh_consists-of_2', 'S_Veh_related-to_1', 'S_Vul', 'S_Vul_M_2', 'S_Vul_M_m', 'S_Vul_hasImpact_1', 'S_Vul_hasVulnerability_2']\n",
            "{'Tool', 'Veh', 'Loc', 'Con', 'Vul', 'Com', 'AP', 'AV', 'CoA', 'Ide'}\n",
            "{'related-to', 'hasInterface', 'consists-of', 'uses', 'targets', 'hasVulnerability', 'hasImpact', 'located-at', 'based-on', 'M', 'mitigates'}\n",
            "Traceback (most recent call last):\n",
            "  File \"/content/Automotive-cyber-threat-intelligence-corpus/model/BiLSTM-dynamic-att-LSTM/script/BiLSTM-dynamic-att-LSTM.py\", line 454, in <module>\n",
            "    avg_loss.backward()\n",
            "  File \"<decorator-gen-57>\", line 2, in backward\n",
            "  File \"/usr/local/lib/python3.11/dist-packages/paddle/base/wrapped_decorator.py\", line 40, in __impl__\n",
            "    return wrapped_func(*args, **kwargs)\n",
            "           ^^^^^^^^^^^^^^^^^^^^^^^^^^^^^\n",
            "  File \"/usr/local/lib/python3.11/dist-packages/paddle/base/framework.py\", line 704, in __impl__\n",
            "    return func(*args, **kwargs)\n",
            "           ^^^^^^^^^^^^^^^^^^^^^\n",
            "  File \"/usr/local/lib/python3.11/dist-packages/paddle/base/dygraph/tensor_patch_methods.py\", line 357, in backward\n",
            "    core.eager.run_backward([self], grad_tensor, retain_graph)\n",
            "KeyboardInterrupt\n",
            "^C\n"
          ]
        }
      ]
    },
    {
      "cell_type": "code",
      "source": [
        "import paddle\n",
        "paddle.set_device(\"gpu\")\n",
        "print(paddle.device.get_device())"
      ],
      "metadata": {
        "colab": {
          "base_uri": "https://localhost:8080/",
          "height": 544
        },
        "id": "PXABh_Vq_HEu",
        "outputId": "e51e3a63-096d-4621-8de4-432875eebb0f"
      },
      "execution_count": null,
      "outputs": [
        {
          "output_type": "stream",
          "name": "stderr",
          "text": [
            "Error: Can not import paddle core while this file exists: /usr/local/lib/python3.11/dist-packages/paddle/fluid/libpaddle.so\n"
          ]
        },
        {
          "output_type": "error",
          "ename": "ImportError",
          "evalue": "libssl.so.1.1: cannot open shared object file: No such file or directory",
          "traceback": [
            "\u001b[0;31m---------------------------------------------------------------------------\u001b[0m",
            "\u001b[0;31mImportError\u001b[0m                               Traceback (most recent call last)",
            "\u001b[0;32m<ipython-input-1-eb005a0dd471>\u001b[0m in \u001b[0;36m<cell line: 0>\u001b[0;34m()\u001b[0m\n\u001b[0;32m----> 1\u001b[0;31m \u001b[0;32mimport\u001b[0m \u001b[0mpaddle\u001b[0m\u001b[0;34m\u001b[0m\u001b[0;34m\u001b[0m\u001b[0m\n\u001b[0m\u001b[1;32m      2\u001b[0m \u001b[0mpaddle\u001b[0m\u001b[0;34m.\u001b[0m\u001b[0mset_device\u001b[0m\u001b[0;34m(\u001b[0m\u001b[0;34m\"gpu\"\u001b[0m\u001b[0;34m)\u001b[0m\u001b[0;34m\u001b[0m\u001b[0;34m\u001b[0m\u001b[0m\n\u001b[1;32m      3\u001b[0m \u001b[0mprint\u001b[0m\u001b[0;34m(\u001b[0m\u001b[0mpaddle\u001b[0m\u001b[0;34m.\u001b[0m\u001b[0mdevice\u001b[0m\u001b[0;34m.\u001b[0m\u001b[0mget_device\u001b[0m\u001b[0;34m(\u001b[0m\u001b[0;34m)\u001b[0m\u001b[0;34m)\u001b[0m\u001b[0;34m\u001b[0m\u001b[0;34m\u001b[0m\u001b[0m\n",
            "\u001b[0;32m/usr/local/lib/python3.11/dist-packages/paddle/__init__.py\u001b[0m in \u001b[0;36m<module>\u001b[0;34m\u001b[0m\n\u001b[1;32m     29\u001b[0m \u001b[0;31m# We need remove the duplicated code here once we fix\u001b[0m\u001b[0;34m\u001b[0m\u001b[0;34m\u001b[0m\u001b[0m\n\u001b[1;32m     30\u001b[0m \u001b[0;31m# the illogical implement in the monkey-patch methods later.\u001b[0m\u001b[0;34m\u001b[0m\u001b[0;34m\u001b[0m\u001b[0m\n\u001b[0;32m---> 31\u001b[0;31m \u001b[0;32mfrom\u001b[0m \u001b[0;34m.\u001b[0m\u001b[0mframework\u001b[0m \u001b[0;32mimport\u001b[0m \u001b[0mmonkey_patch_variable\u001b[0m\u001b[0;34m\u001b[0m\u001b[0;34m\u001b[0m\u001b[0m\n\u001b[0m\u001b[1;32m     32\u001b[0m \u001b[0;32mfrom\u001b[0m \u001b[0;34m.\u001b[0m\u001b[0mframework\u001b[0m \u001b[0;32mimport\u001b[0m \u001b[0mmonkey_patch_math_tensor\u001b[0m\u001b[0;34m\u001b[0m\u001b[0;34m\u001b[0m\u001b[0m\n\u001b[1;32m     33\u001b[0m \u001b[0;34m\u001b[0m\u001b[0m\n",
            "\u001b[0;32m/usr/local/lib/python3.11/dist-packages/paddle/framework/__init__.py\u001b[0m in \u001b[0;36m<module>\u001b[0;34m\u001b[0m\n\u001b[1;32m     15\u001b[0m \u001b[0;31m# TODO: import framework api under this directory\u001b[0m\u001b[0;34m\u001b[0m\u001b[0;34m\u001b[0m\u001b[0m\n\u001b[1;32m     16\u001b[0m \u001b[0;34m\u001b[0m\u001b[0m\n\u001b[0;32m---> 17\u001b[0;31m \u001b[0;32mfrom\u001b[0m \u001b[0;34m.\u001b[0m \u001b[0;32mimport\u001b[0m \u001b[0mrandom\u001b[0m  \u001b[0;31m# noqa: F401\u001b[0m\u001b[0;34m\u001b[0m\u001b[0;34m\u001b[0m\u001b[0m\n\u001b[0m\u001b[1;32m     18\u001b[0m \u001b[0;32mfrom\u001b[0m \u001b[0;34m.\u001b[0m\u001b[0mrandom\u001b[0m \u001b[0;32mimport\u001b[0m \u001b[0mseed\u001b[0m  \u001b[0;31m# noqa: F401\u001b[0m\u001b[0;34m\u001b[0m\u001b[0;34m\u001b[0m\u001b[0m\n\u001b[1;32m     19\u001b[0m \u001b[0;32mfrom\u001b[0m \u001b[0;34m.\u001b[0m\u001b[0mframework\u001b[0m \u001b[0;32mimport\u001b[0m \u001b[0mget_default_dtype\u001b[0m  \u001b[0;31m# noqa: F401\u001b[0m\u001b[0;34m\u001b[0m\u001b[0;34m\u001b[0m\u001b[0m\n",
            "\u001b[0;32m/usr/local/lib/python3.11/dist-packages/paddle/framework/random.py\u001b[0m in \u001b[0;36m<module>\u001b[0;34m\u001b[0m\n\u001b[1;32m     15\u001b[0m \u001b[0;31m# TODO: define random api\u001b[0m\u001b[0;34m\u001b[0m\u001b[0;34m\u001b[0m\u001b[0m\n\u001b[1;32m     16\u001b[0m \u001b[0;32mimport\u001b[0m \u001b[0mpaddle\u001b[0m\u001b[0;34m\u001b[0m\u001b[0;34m\u001b[0m\u001b[0m\n\u001b[0;32m---> 17\u001b[0;31m \u001b[0;32mfrom\u001b[0m \u001b[0mpaddle\u001b[0m \u001b[0;32mimport\u001b[0m \u001b[0mfluid\u001b[0m\u001b[0;34m\u001b[0m\u001b[0;34m\u001b[0m\u001b[0m\n\u001b[0m\u001b[1;32m     18\u001b[0m \u001b[0;32mfrom\u001b[0m \u001b[0mpaddle\u001b[0m\u001b[0;34m.\u001b[0m\u001b[0mfluid\u001b[0m \u001b[0;32mimport\u001b[0m \u001b[0mcore\u001b[0m\u001b[0;34m\u001b[0m\u001b[0;34m\u001b[0m\u001b[0m\n\u001b[1;32m     19\u001b[0m \u001b[0;34m\u001b[0m\u001b[0m\n",
            "\u001b[0;32m/usr/local/lib/python3.11/dist-packages/paddle/fluid/__init__.py\u001b[0m in \u001b[0;36m<module>\u001b[0;34m\u001b[0m\n\u001b[1;32m     34\u001b[0m \u001b[0;34m\u001b[0m\u001b[0m\n\u001b[1;32m     35\u001b[0m \u001b[0;31m# import all class inside framework into fluid module\u001b[0m\u001b[0;34m\u001b[0m\u001b[0;34m\u001b[0m\u001b[0m\n\u001b[0;32m---> 36\u001b[0;31m \u001b[0;32mfrom\u001b[0m \u001b[0;34m.\u001b[0m \u001b[0;32mimport\u001b[0m \u001b[0mframework\u001b[0m\u001b[0;34m\u001b[0m\u001b[0;34m\u001b[0m\u001b[0m\n\u001b[0m\u001b[1;32m     37\u001b[0m \u001b[0;32mfrom\u001b[0m \u001b[0;34m.\u001b[0m\u001b[0mframework\u001b[0m \u001b[0;32mimport\u001b[0m \u001b[0;34m*\u001b[0m\u001b[0;34m\u001b[0m\u001b[0;34m\u001b[0m\u001b[0m\n\u001b[1;32m     38\u001b[0m \u001b[0;34m\u001b[0m\u001b[0m\n",
            "\u001b[0;32m/usr/local/lib/python3.11/dist-packages/paddle/fluid/framework.py\u001b[0m in \u001b[0;36m<module>\u001b[0;34m\u001b[0m\n\u001b[1;32m     33\u001b[0m \u001b[0;32mfrom\u001b[0m \u001b[0;34m.\u001b[0m\u001b[0mproto\u001b[0m \u001b[0;32mimport\u001b[0m \u001b[0mframework_pb2\u001b[0m\u001b[0;34m,\u001b[0m \u001b[0mdata_feed_pb2\u001b[0m\u001b[0;34m\u001b[0m\u001b[0;34m\u001b[0m\u001b[0m\n\u001b[1;32m     34\u001b[0m \u001b[0;34m\u001b[0m\u001b[0m\n\u001b[0;32m---> 35\u001b[0;31m \u001b[0;32mfrom\u001b[0m \u001b[0;34m.\u001b[0m \u001b[0;32mimport\u001b[0m \u001b[0mcore\u001b[0m\u001b[0;34m\u001b[0m\u001b[0;34m\u001b[0m\u001b[0m\n\u001b[0m\u001b[1;32m     36\u001b[0m \u001b[0;32mfrom\u001b[0m \u001b[0;34m.\u001b[0m \u001b[0;32mimport\u001b[0m \u001b[0munique_name\u001b[0m\u001b[0;34m\u001b[0m\u001b[0;34m\u001b[0m\u001b[0m\n\u001b[1;32m     37\u001b[0m \u001b[0;32mimport\u001b[0m \u001b[0mpaddle\u001b[0m\u001b[0;34m.\u001b[0m\u001b[0mversion\u001b[0m \u001b[0;32mas\u001b[0m \u001b[0mfluid_version\u001b[0m\u001b[0;34m\u001b[0m\u001b[0;34m\u001b[0m\u001b[0m\n",
            "\u001b[0;32m/usr/local/lib/python3.11/dist-packages/paddle/fluid/core.py\u001b[0m in \u001b[0;36m<module>\u001b[0;34m\u001b[0m\n\u001b[1;32m    354\u001b[0m             \u001b[0;34m\"you should reinstall paddlepaddle with no-avx core.\\n\"\u001b[0m\u001b[0;34m\u001b[0m\u001b[0;34m\u001b[0m\u001b[0m\n\u001b[1;32m    355\u001b[0m         )\n\u001b[0;32m--> 356\u001b[0;31m     \u001b[0;32mraise\u001b[0m \u001b[0me\u001b[0m\u001b[0;34m\u001b[0m\u001b[0;34m\u001b[0m\u001b[0m\n\u001b[0m\u001b[1;32m    357\u001b[0m \u001b[0;34m\u001b[0m\u001b[0m\n\u001b[1;32m    358\u001b[0m \u001b[0;34m\u001b[0m\u001b[0m\n",
            "\u001b[0;32m/usr/local/lib/python3.11/dist-packages/paddle/fluid/core.py\u001b[0m in \u001b[0;36m<module>\u001b[0;34m\u001b[0m\n\u001b[1;32m    267\u001b[0m \u001b[0;34m\u001b[0m\u001b[0m\n\u001b[1;32m    268\u001b[0m \u001b[0;32mtry\u001b[0m\u001b[0;34m:\u001b[0m\u001b[0;34m\u001b[0m\u001b[0;34m\u001b[0m\u001b[0m\n\u001b[0;32m--> 269\u001b[0;31m     \u001b[0;32mfrom\u001b[0m \u001b[0;34m.\u001b[0m \u001b[0;32mimport\u001b[0m \u001b[0mlibpaddle\u001b[0m\u001b[0;34m\u001b[0m\u001b[0;34m\u001b[0m\u001b[0m\n\u001b[0m\u001b[1;32m    270\u001b[0m \u001b[0;34m\u001b[0m\u001b[0m\n\u001b[1;32m    271\u001b[0m     \u001b[0;32mif\u001b[0m \u001b[0mavx_supported\u001b[0m\u001b[0;34m(\u001b[0m\u001b[0;34m)\u001b[0m \u001b[0;32mand\u001b[0m \u001b[0;32mnot\u001b[0m \u001b[0mlibpaddle\u001b[0m\u001b[0;34m.\u001b[0m\u001b[0mis_compiled_with_avx\u001b[0m\u001b[0;34m(\u001b[0m\u001b[0;34m)\u001b[0m\u001b[0;34m:\u001b[0m\u001b[0;34m\u001b[0m\u001b[0;34m\u001b[0m\u001b[0m\n",
            "\u001b[0;31mImportError\u001b[0m: libssl.so.1.1: cannot open shared object file: No such file or directory",
            "",
            "\u001b[0;31m---------------------------------------------------------------------------\u001b[0;32m\nNOTE: If your import is failing due to a missing package, you can\nmanually install dependencies using either !pip or !apt.\n\nTo view examples of installing some common dependencies, click the\n\"Open Examples\" button below.\n\u001b[0;31m---------------------------------------------------------------------------\u001b[0m\n"
          ],
          "errorDetails": {
            "actions": [
              {
                "action": "open_url",
                "actionText": "Open Examples",
                "url": "/notebooks/snippets/importing_libraries.ipynb"
              }
            ]
          }
        }
      ]
    },
    {
      "cell_type": "code",
      "source": [
        "!pip install paddlepaddle-gpu==2.5.1 -i https://pypi.tuna.tsinghua.edu.cn/simple"
      ],
      "metadata": {
        "colab": {
          "base_uri": "https://localhost:8080/",
          "height": 617
        },
        "id": "gPZ0M5I4_g7Z",
        "outputId": "237999b3-78a1-46ef-9a63-8a865b9fd661"
      },
      "execution_count": null,
      "outputs": [
        {
          "output_type": "stream",
          "name": "stdout",
          "text": [
            "Looking in indexes: https://pypi.tuna.tsinghua.edu.cn/simple\n",
            "Collecting paddlepaddle-gpu==2.5.1\n",
            "  Downloading https://pypi.tuna.tsinghua.edu.cn/packages/f0/78/bd0e21f0145890688a4f9184a78bf5dd16f1859eaba3e121573da541c8ee/paddlepaddle_gpu-2.5.1-cp311-cp311-manylinux1_x86_64.whl (541.0 MB)\n",
            "\u001b[2K     \u001b[90m━━━━━━━━━━━━━━━━━━━━━━━━━━━━━━━━━━━━━━━━\u001b[0m \u001b[32m541.0/541.0 MB\u001b[0m \u001b[31m360.2 kB/s\u001b[0m eta \u001b[36m0:00:00\u001b[0m\n",
            "\u001b[?25hRequirement already satisfied: httpx in /usr/local/lib/python3.11/dist-packages (from paddlepaddle-gpu==2.5.1) (0.28.1)\n",
            "Requirement already satisfied: numpy>=1.13 in /usr/local/lib/python3.11/dist-packages (from paddlepaddle-gpu==2.5.1) (1.26.4)\n",
            "Requirement already satisfied: Pillow in /usr/local/lib/python3.11/dist-packages (from paddlepaddle-gpu==2.5.1) (11.1.0)\n",
            "Requirement already satisfied: decorator in /usr/local/lib/python3.11/dist-packages (from paddlepaddle-gpu==2.5.1) (4.4.2)\n",
            "Requirement already satisfied: astor in /usr/local/lib/python3.11/dist-packages (from paddlepaddle-gpu==2.5.1) (0.8.1)\n",
            "Collecting paddle-bfloat==0.1.7 (from paddlepaddle-gpu==2.5.1)\n",
            "  Downloading https://pypi.tuna.tsinghua.edu.cn/packages/c3/71/67af916cf726ed5d98bb534cf302004dbba70cbbe242169a1743bef7d8ef/paddle_bfloat-0.1.7-cp311-cp311-manylinux_2_17_x86_64.manylinux2014_x86_64.whl (383 kB)\n",
            "\u001b[2K     \u001b[90m━━━━━━━━━━━━━━━━━━━━━━━━━━━━━━━━━━━━━━━━\u001b[0m \u001b[32m383.5/383.5 kB\u001b[0m \u001b[31m20.6 kB/s\u001b[0m eta \u001b[36m0:00:00\u001b[0m\n",
            "\u001b[?25hRequirement already satisfied: opt-einsum==3.3.0 in /usr/local/lib/python3.11/dist-packages (from paddlepaddle-gpu==2.5.1) (3.3.0)\n",
            "Requirement already satisfied: protobuf>=3.20.2 in /usr/local/lib/python3.11/dist-packages (from paddlepaddle-gpu==2.5.1) (5.29.4)\n",
            "Requirement already satisfied: anyio in /usr/local/lib/python3.11/dist-packages (from httpx->paddlepaddle-gpu==2.5.1) (4.9.0)\n",
            "Requirement already satisfied: certifi in /usr/local/lib/python3.11/dist-packages (from httpx->paddlepaddle-gpu==2.5.1) (2025.1.31)\n",
            "Requirement already satisfied: httpcore==1.* in /usr/local/lib/python3.11/dist-packages (from httpx->paddlepaddle-gpu==2.5.1) (1.0.7)\n",
            "Requirement already satisfied: idna in /usr/local/lib/python3.11/dist-packages (from httpx->paddlepaddle-gpu==2.5.1) (3.10)\n",
            "Requirement already satisfied: h11<0.15,>=0.13 in /usr/local/lib/python3.11/dist-packages (from httpcore==1.*->httpx->paddlepaddle-gpu==2.5.1) (0.14.0)\n",
            "Requirement already satisfied: sniffio>=1.1 in /usr/local/lib/python3.11/dist-packages (from anyio->httpx->paddlepaddle-gpu==2.5.1) (1.3.1)\n",
            "Requirement already satisfied: typing_extensions>=4.5 in /usr/local/lib/python3.11/dist-packages (from anyio->httpx->paddlepaddle-gpu==2.5.1) (4.12.2)\n",
            "Installing collected packages: paddle-bfloat, paddlepaddle-gpu\n",
            "  Attempting uninstall: paddlepaddle-gpu\n",
            "    Found existing installation: paddlepaddle-gpu 2.6.2\n",
            "    Uninstalling paddlepaddle-gpu-2.6.2:\n",
            "      Successfully uninstalled paddlepaddle-gpu-2.6.2\n",
            "Successfully installed paddle-bfloat-0.1.7 paddlepaddle-gpu-2.5.1\n"
          ]
        },
        {
          "output_type": "display_data",
          "data": {
            "application/vnd.colab-display-data+json": {
              "pip_warning": {
                "packages": [
                  "paddle"
                ]
              },
              "id": "e684df4960184407947f6b5710b3bf05"
            }
          },
          "metadata": {}
        }
      ]
    },
    {
      "cell_type": "code",
      "source": [
        "!python3 script/train-test.py"
      ],
      "metadata": {
        "colab": {
          "base_uri": "https://localhost:8080/"
        },
        "id": "TahaahlU57Fh",
        "outputId": "27d70880-385b-4cc8-b3a7-e121e0ebfa9d"
      },
      "execution_count": null,
      "outputs": [
        {
          "output_type": "stream",
          "name": "stdout",
          "text": [
            "/usr/local/lib/python3.11/dist-packages/paddle/utils/cpp_extension/extension_utils.py:711: UserWarning: No ccache found. Please be aware that recompiling all source files may be required. You can download and install ccache from: https://github.com/ccache/ccache/blob/master/doc/INSTALL.md\n",
            "  warnings.warn(warning_message)\n",
            "/usr/local/lib/python3.11/dist-packages/_distutils_hack/__init__.py:31: UserWarning: Setuptools is replacing distutils. Support for replacing an already imported distutils is deprecated. In the future, this condition will fail. Register concerns at https://github.com/pypa/setuptools/issues/new?template=distutils-deprecation.yml\n",
            "  warnings.warn(\n",
            "Traceback (most recent call last):\n",
            "  File \"/content/Automotive-cyber-threat-intelligence-corpus/model/BiLSTM-dynamic-att-LSTM/script/train-test.py\", line 23, in <module>\n",
            "    paddle.set_device(\"gpu\")\n",
            "  File \"/usr/local/lib/python3.11/dist-packages/paddle/device/__init__.py\", line 311, in set_device\n",
            "    place = _convert_to_place(device)\n",
            "            ^^^^^^^^^^^^^^^^^^^^^^^^^\n",
            "  File \"/usr/local/lib/python3.11/dist-packages/paddle/device/__init__.py\", line 213, in _convert_to_place\n",
            "    raise ValueError(\n",
            "ValueError: The device should not be 'gpu', since PaddlePaddle is not compiled with CUDA\n"
          ]
        }
      ]
    }
  ]
}